{
  "nbformat": 4,
  "nbformat_minor": 0,
  "metadata": {
    "colab": {
      "provenance": [],
      "authorship_tag": "ABX9TyNTNAEwTOxBA/nYUkcdjB1t",
      "include_colab_link": true
    },
    "kernelspec": {
      "name": "python3",
      "display_name": "Python 3"
    },
    "language_info": {
      "name": "python"
    }
  },
  "cells": [
    {
      "cell_type": "markdown",
      "metadata": {
        "id": "view-in-github",
        "colab_type": "text"
      },
      "source": [
        "<a href=\"https://colab.research.google.com/github/214vijay/Python-Lab/blob/main/Assignment1_Q13.ipynb\" target=\"_parent\"><img src=\"https://colab.research.google.com/assets/colab-badge.svg\" alt=\"Open In Colab\"/></a>"
      ]
    },
    {
      "cell_type": "markdown",
      "source": [
        "13. Write a Python program to create and display all combinations of letters, selecting\n",
        "each letter from a different key in a dictionary.\n",
        "Sample data : {'1':['a','b'], '2':['c','d']}"
      ],
      "metadata": {
        "id": "CpTiuxJj9kxt"
      }
    },
    {
      "cell_type": "code",
      "execution_count": 1,
      "metadata": {
        "colab": {
          "base_uri": "https://localhost:8080/"
        },
        "id": "4QdmQyhp9iEG",
        "outputId": "31215e81-3be1-4e15-e403-9c0c05f96800"
      },
      "outputs": [
        {
          "output_type": "stream",
          "name": "stdout",
          "text": [
            "ac\n",
            "ad\n",
            "bc\n",
            "bd\n"
          ]
        }
      ],
      "source": [
        "data = {'1': ['a', 'b'], '2': ['c', 'd']}\n",
        "\n",
        "values = list(data.values())\n",
        "\n",
        "def cartesian_product(lists, index=0, current=[], result=[]):\n",
        "    if index == len(lists):\n",
        "        result.append(''.join(current))\n",
        "        return\n",
        "    for item in lists[index]:\n",
        "        cartesian_product(lists, index + 1, current + [item], result)\n",
        "    return result\n",
        "\n",
        "\n",
        "combinations = cartesian_product(values)\n",
        "\n",
        "for combo in combinations:\n",
        "    print(combo)\n"
      ]
    }
  ]
}