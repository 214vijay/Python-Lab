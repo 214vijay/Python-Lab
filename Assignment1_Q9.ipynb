{
  "nbformat": 4,
  "nbformat_minor": 0,
  "metadata": {
    "colab": {
      "provenance": [],
      "history_visible": true,
      "authorship_tag": "ABX9TyNHZvk8+7m2Bcx7Z8+0v9LN",
      "include_colab_link": true
    },
    "kernelspec": {
      "name": "python3",
      "display_name": "Python 3"
    },
    "language_info": {
      "name": "python"
    }
  },
  "cells": [
    {
      "cell_type": "markdown",
      "metadata": {
        "id": "view-in-github",
        "colab_type": "text"
      },
      "source": [
        "<a href=\"https://colab.research.google.com/github/214vijay/Python-Lab/blob/main/Assignment1_Q9.ipynb\" target=\"_parent\"><img src=\"https://colab.research.google.com/assets/colab-badge.svg\" alt=\"Open In Colab\"/></a>"
      ]
    },
    {
      "cell_type": "markdown",
      "source": [
        "Q9. Given two strings, s1 and s2, create a new string by appending s2 in the middle of s1\n",
        "Given:\n",
        "\n",
        "\n",
        "```\n",
        "s1=\"DTU cybersecurity\"\n",
        "s2=\"MTech\"\n",
        "```\n",
        "\n",
        "Expected Output:\n",
        "\n",
        "\n",
        "```\n",
        "DTU MTech cybersecurity\n",
        "```\n",
        "\n"
      ],
      "metadata": {
        "id": "emu3qGAawPO5"
      }
    },
    {
      "cell_type": "code",
      "execution_count": 9,
      "metadata": {
        "colab": {
          "base_uri": "https://localhost:8080/"
        },
        "id": "Kxt9pdKZwL49",
        "outputId": "db660c80-5a65-4a44-c64a-5686702da13d"
      },
      "outputs": [
        {
          "output_type": "stream",
          "name": "stdout",
          "text": [
            "DTU MTech cybersecurity\n"
          ]
        }
      ],
      "source": [
        "s1=\"DTU cybersecurity\"\n",
        "s2=\"MTech\"\n",
        "s3=s1[:3]+\" \"+s2+s1[3:]\n",
        "print(s3)"
      ]
    }
  ]
}