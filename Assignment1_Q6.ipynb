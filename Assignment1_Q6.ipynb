{
  "nbformat": 4,
  "nbformat_minor": 0,
  "metadata": {
    "colab": {
      "provenance": [],
      "authorship_tag": "ABX9TyMT522gLcbpSadSxRr+8vHP",
      "include_colab_link": true
    },
    "kernelspec": {
      "name": "python3",
      "display_name": "Python 3"
    },
    "language_info": {
      "name": "python"
    }
  },
  "cells": [
    {
      "cell_type": "markdown",
      "metadata": {
        "id": "view-in-github",
        "colab_type": "text"
      },
      "source": [
        "<a href=\"https://colab.research.google.com/github/214vijay/Python-Lab/blob/main/Assignment1_Q6.ipynb\" target=\"_parent\"><img src=\"https://colab.research.google.com/assets/colab-badge.svg\" alt=\"Open In Colab\"/></a>"
      ]
    },
    {
      "cell_type": "markdown",
      "source": [
        "Q6. Program for How to check if a given number is Fibonacci number?"
      ],
      "metadata": {
        "id": "tkfYFyIAb3II"
      }
    },
    {
      "cell_type": "code",
      "execution_count": 13,
      "metadata": {
        "id": "9WDesNLvbxZe"
      },
      "outputs": [],
      "source": [
        "def fib(number, memory={}):\n",
        "  if number in memory:\n",
        "    return memory[number]\n",
        "  if number == 0: return 0\n",
        "  if number == 1 or number == 2: return 1\n",
        "  memory[number] = fib(number - 1, memory) + fib(number - 2, memory)\n",
        "  return memory[number]\n"
      ]
    },
    {
      "cell_type": "code",
      "source": [
        "def isFib(number):\n",
        "  i=1\n",
        "  while True:\n",
        "    f=fib(i)\n",
        "    if f > number:\n",
        "      return False\n",
        "    if f == number:\n",
        "      return True\n",
        "    i=i+1"
      ],
      "metadata": {
        "id": "0bBmxOhhjw31"
      },
      "execution_count": 10,
      "outputs": []
    },
    {
      "cell_type": "code",
      "source": [
        "isFib(12)"
      ],
      "metadata": {
        "colab": {
          "base_uri": "https://localhost:8080/"
        },
        "id": "UhoHZs3cjy5W",
        "outputId": "dd03ed5e-7261-405a-b483-509d24f84cd1"
      },
      "execution_count": 14,
      "outputs": [
        {
          "output_type": "execute_result",
          "data": {
            "text/plain": [
              "False"
            ]
          },
          "metadata": {},
          "execution_count": 14
        }
      ]
    }
  ]
}