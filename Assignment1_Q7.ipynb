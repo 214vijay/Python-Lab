{
  "nbformat": 4,
  "nbformat_minor": 0,
  "metadata": {
    "colab": {
      "provenance": [],
      "authorship_tag": "ABX9TyOjo/Sm/yW5a+lWI2EZzXAU",
      "include_colab_link": true
    },
    "kernelspec": {
      "name": "python3",
      "display_name": "Python 3"
    },
    "language_info": {
      "name": "python"
    }
  },
  "cells": [
    {
      "cell_type": "markdown",
      "metadata": {
        "id": "view-in-github",
        "colab_type": "text"
      },
      "source": [
        "<a href=\"https://colab.research.google.com/github/214vijay/Python-Lab/blob/main/Assignment1_Q7.ipynb\" target=\"_parent\"><img src=\"https://colab.research.google.com/assets/colab-badge.svg\" alt=\"Open In Colab\"/></a>"
      ]
    },
    {
      "cell_type": "markdown",
      "source": [
        "Q7. Write a function that returns the sum of multiples of 3 and 5 between 0 and limit\n",
        "(parameter). For example, if limit is 20, it should return the sum of 3, 5, 6, 9, 10,\n",
        "12, 15, 18, 20."
      ],
      "metadata": {
        "id": "KKOPKTyrj53D"
      }
    },
    {
      "cell_type": "code",
      "execution_count": 5,
      "metadata": {
        "colab": {
          "base_uri": "https://localhost:8080/"
        },
        "id": "o5z5RFwEjt39",
        "outputId": "fdcb4d03-85d7-468b-e416-2a2091bedca2"
      },
      "outputs": [
        {
          "output_type": "execute_result",
          "data": {
            "text/plain": [
              "98"
            ]
          },
          "metadata": {},
          "execution_count": 5
        }
      ],
      "source": [
        "def sumOfMultiples(limit):\n",
        "  sum=0\n",
        "  for i in range(1,limit+1):\n",
        "    if i%3==0 or i%5==0:\n",
        "      sum+=i\n",
        "  return sum\n",
        "\n",
        "sumOfMultiples(20)"
      ]
    }
  ]
}