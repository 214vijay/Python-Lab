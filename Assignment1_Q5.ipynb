{
  "nbformat": 4,
  "nbformat_minor": 0,
  "metadata": {
    "colab": {
      "provenance": [],
      "authorship_tag": "ABX9TyOC8TDkrKh5vOl0MIvmP45i",
      "include_colab_link": true
    },
    "kernelspec": {
      "name": "python3",
      "display_name": "Python 3"
    },
    "language_info": {
      "name": "python"
    }
  },
  "cells": [
    {
      "cell_type": "markdown",
      "metadata": {
        "id": "view-in-github",
        "colab_type": "text"
      },
      "source": [
        "<a href=\"https://colab.research.google.com/github/214vijay/Python-Lab/blob/main/Assignment1_Q5.ipynb\" target=\"_parent\"><img src=\"https://colab.research.google.com/assets/colab-badge.svg\" alt=\"Open In Colab\"/></a>"
      ]
    },
    {
      "cell_type": "markdown",
      "source": [
        "Q5. Program for nth Fibonacci number"
      ],
      "metadata": {
        "id": "rxqusyV2JIWl"
      }
    },
    {
      "cell_type": "code",
      "execution_count": null,
      "metadata": {
        "id": "jcNXG3--JHJH"
      },
      "outputs": [],
      "source": [
        "\n",
        "def fib(n,memory={}):\n",
        "  if n in memory: return memory[n]\n",
        "  if n==1: return 0\n",
        "  if n==2 or n==3: return 1\n",
        "  memory[n]= fib(n-1,memory)+fib(n-2,memory)\n",
        "  return memory[n]"
      ]
    },
    {
      "cell_type": "code",
      "source": [
        "\n",
        "fib(39)\n"
      ],
      "metadata": {
        "colab": {
          "base_uri": "https://localhost:8080/"
        },
        "id": "mDXSSMYlLAek",
        "outputId": "5854c60b-043a-4464-c7d2-bfd9f7a0b1db"
      },
      "execution_count": null,
      "outputs": [
        {
          "output_type": "execute_result",
          "data": {
            "text/plain": [
              "39088169"
            ]
          },
          "metadata": {},
          "execution_count": 24
        }
      ]
    }
  ]
}