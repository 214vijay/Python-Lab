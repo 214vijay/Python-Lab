{
  "nbformat": 4,
  "nbformat_minor": 0,
  "metadata": {
    "colab": {
      "provenance": [],
      "authorship_tag": "ABX9TyOiRzwm/DtWzOeuuYUO1HV2",
      "include_colab_link": true
    },
    "kernelspec": {
      "name": "python3",
      "display_name": "Python 3"
    },
    "language_info": {
      "name": "python"
    }
  },
  "cells": [
    {
      "cell_type": "markdown",
      "metadata": {
        "id": "view-in-github",
        "colab_type": "text"
      },
      "source": [
        "<a href=\"https://colab.research.google.com/github/214vijay/Python-Lab/blob/main/Assignment1_Q14.ipynb\" target=\"_parent\"><img src=\"https://colab.research.google.com/assets/colab-badge.svg\" alt=\"Open In Colab\"/></a>"
      ]
    },
    {
      "cell_type": "markdown",
      "source": [
        "Q14. Find all the strings that are substrings to the given list of strings Example:\n",
        "Input :\n",
        "test_list1 = [“Hello”, “world”, “Welcome”, “to”, “Pyhton”],\n",
        "test_list2 = [“Hell”, “or”, “to”, “Heaven”]\n",
        "Output :\n",
        "[‘Hell’, ‘or’, ‘to’]\n",
        "Explanation :\n",
        "“Hell” occurs in “Hello” string as substring. “or” occurs in “World” string as\n",
        "substring."
      ],
      "metadata": {
        "id": "U9wqc2XgDGmq"
      }
    },
    {
      "cell_type": "code",
      "execution_count": 1,
      "metadata": {
        "colab": {
          "base_uri": "https://localhost:8080/"
        },
        "id": "IEumX91jDFql",
        "outputId": "f1b3471c-e142-492f-d50d-bc35d6081a72"
      },
      "outputs": [
        {
          "output_type": "stream",
          "name": "stdout",
          "text": [
            "['Hell', 'or', 'to']\n"
          ]
        }
      ],
      "source": [
        "def find_substrings(list1, list2):\n",
        "\n",
        "    substrings = []\n",
        "    for sub in list2:\n",
        "        for full_string in list1:\n",
        "            if sub in full_string:\n",
        "                substrings.append(sub)\n",
        "                break\n",
        "    return substrings\n",
        "\n",
        "test_list1 = [\"Hello\", \"world\", \"Welcome\", \"to\", \"Pyhton\"]\n",
        "test_list2 = [\"Hell\", \"or\", \"to\", \"Heaven\"]\n",
        "\n",
        "result = find_substrings(test_list1, test_list2)\n",
        "print(result)"
      ]
    }
  ]
}