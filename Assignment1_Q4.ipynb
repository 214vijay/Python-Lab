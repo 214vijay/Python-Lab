{
  "nbformat": 4,
  "nbformat_minor": 0,
  "metadata": {
    "colab": {
      "provenance": [],
      "authorship_tag": "ABX9TyNq3VKes8XMqGdVMike6Stk",
      "include_colab_link": true
    },
    "kernelspec": {
      "name": "python3",
      "display_name": "Python 3"
    },
    "language_info": {
      "name": "python"
    }
  },
  "cells": [
    {
      "cell_type": "markdown",
      "metadata": {
        "id": "view-in-github",
        "colab_type": "text"
      },
      "source": [
        "<a href=\"https://colab.research.google.com/github/214vijay/Python-Lab/blob/main/Assignment1_Q4.ipynb\" target=\"_parent\"><img src=\"https://colab.research.google.com/assets/colab-badge.svg\" alt=\"Open In Colab\"/></a>"
      ]
    },
    {
      "cell_type": "markdown",
      "source": [
        "Q4. Program to print all Prime numbers in an Interval"
      ],
      "metadata": {
        "id": "ZwoXRyRK_ErJ"
      }
    },
    {
      "cell_type": "code",
      "execution_count": 15,
      "metadata": {
        "id": "W04Jw1YR-xCW"
      },
      "outputs": [],
      "source": [
        "def rangePrime(start,end):\n",
        "  def isPrime(num):\n",
        "    if num==2: return True\n",
        "    if num<2 or num%2==0: return False\n",
        "    for i in range(3,int(num**0.5)+1):\n",
        "      if num%i==0: return False\n",
        "    return True\n",
        "  for i in range(start, end+1):\n",
        "    if isPrime(i): print(i)\n"
      ]
    },
    {
      "cell_type": "code",
      "source": [
        "rangePrime(10,100)"
      ],
      "metadata": {
        "colab": {
          "base_uri": "https://localhost:8080/"
        },
        "id": "Nah0yNEgGP5z",
        "outputId": "4ad45770-0912-412f-9292-8b6800ff7c64"
      },
      "execution_count": 16,
      "outputs": [
        {
          "output_type": "stream",
          "name": "stdout",
          "text": [
            "11\n",
            "13\n",
            "17\n",
            "19\n",
            "23\n",
            "29\n",
            "31\n",
            "37\n",
            "41\n",
            "43\n",
            "47\n",
            "53\n",
            "59\n",
            "61\n",
            "67\n",
            "71\n",
            "73\n",
            "79\n",
            "83\n",
            "89\n",
            "97\n"
          ]
        }
      ]
    }
  ]
}