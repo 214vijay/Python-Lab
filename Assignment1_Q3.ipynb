{
  "nbformat": 4,
  "nbformat_minor": 0,
  "metadata": {
    "colab": {
      "provenance": [],
      "authorship_tag": "ABX9TyOiWv9qPqjGM3Z3SOEDf2o8",
      "include_colab_link": true
    },
    "kernelspec": {
      "name": "python3",
      "display_name": "Python 3"
    },
    "language_info": {
      "name": "python"
    }
  },
  "cells": [
    {
      "cell_type": "markdown",
      "metadata": {
        "id": "view-in-github",
        "colab_type": "text"
      },
      "source": [
        "<a href=\"https://colab.research.google.com/github/214vijay/Python-Lab/blob/main/Assignment1_Q3.ipynb\" target=\"_parent\"><img src=\"https://colab.research.google.com/assets/colab-badge.svg\" alt=\"Open In Colab\"/></a>"
      ]
    },
    {
      "cell_type": "markdown",
      "source": [
        "Q3. Program to check Armstrong Number"
      ],
      "metadata": {
        "id": "S2y92T1ZNjGo"
      }
    },
    {
      "cell_type": "code",
      "execution_count": null,
      "metadata": {
        "id": "m1x6W7m1KDfS"
      },
      "outputs": [],
      "source": [
        "def isArmStrong(number):\n",
        "  lengthofNumber=len(str(number))\n",
        "  return True if number == sum(int(digit)**lengthofNumber for digit in str(number)) else False\n"
      ]
    },
    {
      "cell_type": "code",
      "source": [
        "print(isArmStrong(153))"
      ],
      "metadata": {
        "colab": {
          "base_uri": "https://localhost:8080/"
        },
        "id": "9t4Cqb6NNDFP",
        "outputId": "29c2f70d-acf6-4d84-9325-29c7aae2ff8c"
      },
      "execution_count": null,
      "outputs": [
        {
          "output_type": "stream",
          "name": "stdout",
          "text": [
            "True\n"
          ]
        }
      ]
    }
  ]
}