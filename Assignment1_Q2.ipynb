{
  "nbformat": 4,
  "nbformat_minor": 0,
  "metadata": {
    "colab": {
      "provenance": [],
      "authorship_tag": "ABX9TyMIeCJAXdg9QA1xrFVnV0PL",
      "include_colab_link": true
    },
    "kernelspec": {
      "name": "python3",
      "display_name": "Python 3"
    },
    "language_info": {
      "name": "python"
    }
  },
  "cells": [
    {
      "cell_type": "markdown",
      "metadata": {
        "id": "view-in-github",
        "colab_type": "text"
      },
      "source": [
        "<a href=\"https://colab.research.google.com/github/214vijay/Python-Lab/blob/main/Assignment1_Q2.ipynb\" target=\"_parent\"><img src=\"https://colab.research.google.com/assets/colab-badge.svg\" alt=\"Open In Colab\"/></a>"
      ]
    },
    {
      "cell_type": "code",
      "execution_count": 8,
      "metadata": {
        "id": "NI6ky4URGBnT"
      },
      "outputs": [],
      "source": [
        "def compoundInterest(value,interestRate,tenureInYears):\n",
        "  while tenureInYears:\n",
        "    value+=value*interestRate/100\n",
        "    tenureInYears-=1\n",
        "  return value\n"
      ]
    },
    {
      "cell_type": "code",
      "source": [
        "print(compoundInterest(100,10,3))"
      ],
      "metadata": {
        "colab": {
          "base_uri": "https://localhost:8080/"
        },
        "id": "dSk0u7DcJWg5",
        "outputId": "e71d0b73-49cd-4718-f2e9-ce1f4627f015"
      },
      "execution_count": 7,
      "outputs": [
        {
          "output_type": "stream",
          "name": "stdout",
          "text": [
            "133.1\n"
          ]
        }
      ]
    }
  ]
}